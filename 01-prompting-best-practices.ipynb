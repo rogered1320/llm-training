{
 "cells": [
  {
   "cell_type": "markdown",
   "id": "87518696",
   "metadata": {},
   "source": [
    "# 🧠 Prompt Engineering Context & Resources\n",
    "\n",
    "This notebook explores prompt engineering techniques for improving résumés using large language models (LLMs). Below are key resources, context, and a summary of the LLMs used in this class.\n",
    "\n",
    "---\n",
    "\n",
    "## 🔗 Useful Resources\n",
    "\n",
    "- [OpenAI Tokenizer Tool](https://platform.openai.com/tokenizer) — Test and visualize how text is tokenized by OpenAI models.\n",
    "- [Prompt Playground](https://ai-sdk.dev/playground) — Experiment with prompts and compare outputs across different LLMs.\n",
    "\n",
    "---\n",
    "\n",
    "## 🤖 LLMs Used in This Class\n",
    "\n",
    "- **OpenAI GPT-4o-mini**\n",
    "- **Gemini**\n",
    "- **Cohere** ([HuggingFace Documentation](https://huggingface.co/docs/inference-providers/providers/cohere))\n",
    "- **gemma-3-4b-it** (Local deployment)\n",
    "\n",
    "---\n",
    "\n",
    "> **Summary:**  \n",
    "This notebook provides hands-on examples and best practices for prompt engineering, focusing on CV improvement tasks. It highlights the importance of clear instructions, risk awareness, and the use of multiple LLMs for experimentation and comparison.\n"
   ]
  },
  {
   "cell_type": "code",
   "execution_count": 1,
   "id": "622be066",
   "metadata": {},
   "outputs": [
    {
     "name": "stderr",
     "output_type": "stream",
     "text": [
      "/Users/rogered1320/miniforge3/envs/llm-training/lib/python3.13/site-packages/tqdm/auto.py:21: TqdmWarning: IProgress not found. Please update jupyter and ipywidgets. See https://ipywidgets.readthedocs.io/en/stable/user_install.html\n",
      "  from .autonotebook import tqdm as notebook_tqdm\n"
     ]
    },
    {
     "name": "stdout",
     "output_type": "stream",
     "text": [
      "Nombre: Juan Pérez\n",
      "Correo: juan.perez.dev@gmail.com\n",
      "Teléfono: +51 987 654 321\n",
      "LinkedIn: https://www.linkedin.com/in/juanperezdev\n",
      "GitHub: https://github.com/juanperezdev\n",
      "\n",
      "🎯 Perfil Profesional\n",
      "Desarrollador Frontend con más de 4 años de experiencia construyendo interfaces web modernas y responsivas. Especializado en React y Tailwind CSS, con conocimientos complementarios en desarrollo Backend con Node.js y Express. Apasionado por la experiencia de usuario, el rendimiento web y el trabajo en equipo ágil.\n",
      "\n",
      "💼 Experiencia Laboral\n",
      "\n",
      "Frontend Developer – TechNova Solutions (2022 - Actualidad)\n",
      "- Desarrollo de interfaces web responsivas usando React y TypeScript.\n",
      "- Implementación de diseño basado en componentes reutilizables con Tailwind.\n",
      "- Colaboración con diseñadores UX/UI para crear experiencias accesibles.\n",
      "- Integración de APIs RESTful y manejo de autenticación con JWT.\n",
      "\n",
      "Web Developer – DigitalMinds Agency (2020 - 2022)\n",
      "- Desarrollo y mantenimiento de sitios web corporativos con HTML, CSS, JavaScript y Vue.js.\n",
      "- Implementación de formularios interactivos y animaciones ligeras.\n",
      "- Participación en la migración de sitios legacy a frameworks modernos.\n",
      "\n",
      "Asistente de Desarrollo – SoftNet Peru (2019 - 2020)\n",
      "- Soporte en desarrollo de funcionalidades básicas en proyectos PHP y jQuery.\n",
      "- Corrección de bugs y mejora de estilos CSS.\n",
      "- Aprendizaje y aplicación de control de versiones con Git.\n",
      "\n",
      "🎓 Educación\n",
      "Bachiller en Ingeniería de Sistemas\n",
      "Universidad Nacional de Ingeniería — 2014 - 2019\n",
      "\n",
      "📚 Cursos y Certificaciones\n",
      "- Full Stack Web Development – CódigoLatino Bootcamp (2023)\n",
      "- Backend con Node.js y Express – Platzi (2022)\n",
      "- Introducción a Bases de Datos con PostgreSQL – Udemy (2021)\n",
      "- Responsive Web Design – freeCodeCamp (2020)\n",
      "\n",
      "🛠️ Habilidades Técnicas\n",
      "- Frontend: React, Next.js, Vue.js, JavaScript, TypeScript, Tailwind, Sass\n",
      "- Backend: Node.js, Express, MongoDB (básico), PostgreSQL (básico)\n",
      "- Herramientas: Git, GitHub, Figma, Vite, Webpack\n",
      "- Idiomas: Español (nativo), Inglés (intermedio)\n"
     ]
    }
   ],
   "source": [
    "#import functions from utils.py\n",
    "from utils import *\n",
    "# read all text in resume_jp.txt and save it in a resume variable\n",
    "with open('resume_jp.txt', 'r', encoding='utf-8') as file:\n",
    "    resume = file.read()\n",
    "# print the result in human friendly format\n",
    "print(resume.strip())"
   ]
  },
  {
   "cell_type": "markdown",
   "id": "0977157e",
   "metadata": {},
   "source": [
    "# 📝 Prompt Engineering for CV Improvement\n",
    "\n",
    "In this lesson, we'll explore best practices for designing prompts to improve résumés using large language models.  \n",
    "We'll start by reading a sample CV from `resume_jp.txt`, which will serve as our test input for the different prompting strategies demonstrated below."
   ]
  },
  {
   "cell_type": "markdown",
   "id": "87a4d88c",
   "metadata": {},
   "source": [
    "### Simple Prompt: Baseline Approach\n",
    "\n",
    "The original simple prompt provides a straightforward instruction to improve a résumé, without specifying role, context, or output format. It serves as a baseline for comparison with more advanced prompting techniques. This prompt is useful for quick tests but may produce less consistent or tailored results."
   ]
  },
  {
   "cell_type": "code",
   "execution_count": 2,
   "id": "80e4ce6b",
   "metadata": {},
   "outputs": [],
   "source": [
    "simple_prompt = (\n",
    "    \"Improve this resume to make it look more professional and appealing to international tech companies:\\n\\n{cv}\"\n",
    ")"
   ]
  },
  {
   "cell_type": "code",
   "execution_count": 3,
   "id": "5f0feec8",
   "metadata": {},
   "outputs": [],
   "source": [
    "simple_prompt_result = execute_prompt(build_prompt(simple_prompt, resume))"
   ]
  },
  {
   "cell_type": "code",
   "execution_count": 18,
   "id": "60e1e686",
   "metadata": {},
   "outputs": [
    {
     "name": "stdout",
     "output_type": "stream",
     "text": [
      "Aquí está una versión revisada de su currículum, con un formato más profesional y un lenguaje mejorado para atraer a las empresas de tecnología internacionales:\n",
      "\n",
      "Juan Pérez\n",
      "Desarrollador Frontend | Especialista en React y Tailwind CSS\n",
      "\n",
      "Correo electrónico: juan.perez.dev@gmail.com\n",
      "Teléfono: +51 987 654 321\n",
      "LinkedIn: www.linkedin.com/in/juanperezdev\n",
      "GitHub: www.github.com/juanperezdev\n",
      "\n",
      "Resumen\n",
      "Desarrollador Frontend con más de 4 años de experiencia en la creación de interfaces web modernas y responsivas. Experto en React y Tailwind CSS, con un sólido conocimiento de desarrollo Backend con Node.js y Express. Apasionado por brindar una excelente experiencia de usuario, optimizar el rendimiento web y trabajar en colaboración dentro de equipos ágiles.\n",
      "\n",
      "Experiencia Laboral\n",
      "\n",
      "Frontend Developer | TechNova Solutions | 2022 - Actualidad\n",
      "- Desarrollé interfaces web responsivas utilizando React y TypeScript, creando componentes reutilizables y siguiendo las mejores prácticas de accesibilidad.\n",
      "- Implementé un diseño basado en componentes con Tailwind, garantizando un estilo consistente y fácil de mantener.\n",
      "- Colaboré estrechamente con diseñadores UX/UI para crear experiencias de usuario intuitivas y atractivas.\n",
      "- Me encargué de la integración de APIs RESTful y de la implementación de sistemas de autenticación con JWT.\n",
      "\n",
      "Web Developer | DigitalMinds Agency | 2020 - 2022\n",
      "- Desarrollé y mantuve sitios web corporativos dinámicos utilizando HTML, CSS, JavaScript y Vue.js.\n",
      "- Creé formularios interactivos y animaciones ligeras para mejorar la experiencia del usuario.\n",
      "- Participé activamente en la migración de sitios web legacy a frameworks modernos, mejorando el rendimiento y la accesibilidad.\n",
      "\n",
      "Asistente de Desarrollo | SoftNet Peru | 2019 - 2020\n",
      "- Brindé soporte en el desarrollo de funcionalidades básicas en proyectos PHP y jQuery, asegurando la calidad y la funcionalidad del código.\n",
      "- Realicé la corrección de errores y la mejora de estilos CSS para garantizar la consistencia y la estética del diseño.\n",
      "- Aprendí y apliqué control de versiones con Git para una colaboración eficiente en equipo.\n",
      "\n",
      "Educación\n",
      "\n",
      "Bachiller en Ingeniería de Sistemas | Universidad Nacional de Ingeniería | 2014 - 2019\n",
      "\n",
      "Cursos y Certificaciones\n",
      "- Full Stack Web Development – CódigoLatino Bootcamp (2023)\n",
      "- Backend con Node.js y Express – Platzi (2022)\n",
      "- Introducción a Bases de Datos con PostgreSQL – Udemy (2021)\n",
      "- Responsive Web Design – freeCodeCamp (2020)\n",
      "\n",
      "Habilidades Técnicas\n",
      "- Frontend: React, Next.js, Vue.js, JavaScript, TypeScript, Tailwind, Sass\n",
      "- Backend: Node.js, Express, MongoDB (básico), PostgreSQL (básico)\n",
      "- Herramientas: Git, GitHub, Figma, Vite, Webpack\n",
      "- Idiomas: Español (nativo), Inglés (intermedio)\n",
      "\n",
      "Este currículum revisado destaca sus habilidades y experiencia de una manera más concisa y profesional. Utiliza un lenguaje claro y directo, enfatizando sus fortalezas y logros en cada puesto de trabajo. Además, el formato mejorado lo hace más fácil de leer y resalta sus habilidades técnicas.\n"
     ]
    }
   ],
   "source": [
    "print(simple_prompt_result[\"hf\"].strip())\n",
    "#['hf', 'lm_studio', 'openai', 'gemini']"
   ]
  },
  {
   "cell_type": "markdown",
   "id": "950687f0",
   "metadata": {},
   "source": [
    "### What is \"Zero-shot\" in Prompting?\n",
    "\n",
    "**Zero-shot prompting** is a technique where you ask a language model to perform a task without providing any examples of the desired input-output behavior. Instead, you rely solely on a clear and explicit instruction or description of the task. This approach tests the model’s ability to generalize and understand tasks based on its pre-trained knowledge.\n",
    "\n",
    "**Example:**  \n",
    "Instead of showing examples of improved résumés, you simply instruct:  \n",
    "“Improve this résumé to make it more professional and appealing to international tech companies.”\n",
    "\n",
    "**Benefits:**  \n",
    "- Fast and simple to implement  \n",
    "- Useful for straightforward or well-known tasks  \n",
    "- No need to craft or curate examples\n",
    "\n",
    "**Limitations:**  \n",
    "- May produce less consistent or lower-quality results for complex or creative tasks compared to few-shot prompting  \n",
    "- Relies heavily on the clarity of the instruction"
   ]
  },
  {
   "cell_type": "code",
   "execution_count": 5,
   "id": "00bf48f5",
   "metadata": {},
   "outputs": [],
   "source": [
    "\n",
    "zero_shot_prompt = (\n",
    "    \"Act as a senior recruiter at a tech company who receives hundreds of resumes per week. \"\n",
    "    \"Analyze and improve the following resume to make it clearer, more impactful, and competitive for a semi-senior Frontend Developer position at a startup in the United States. \"\n",
    "    \"Maintain a professional tone and prioritize relevant skills and achievements.\\n\\n{cv}\"\n",
    ")\n"
   ]
  },
  {
   "cell_type": "code",
   "execution_count": 6,
   "id": "45f018d8",
   "metadata": {},
   "outputs": [],
   "source": [
    "zero_shot_prompt_result = execute_prompt(build_prompt(zero_shot_prompt, resume))"
   ]
  },
  {
   "cell_type": "markdown",
   "id": "4504b019",
   "metadata": {},
   "source": [
    "### What is \"Few-shot\" in Prompting?\n",
    "\n",
    "**Few-shot prompting** is a technique where you provide a language model with a few examples of the desired input-output behavior within the prompt. These examples help guide the model to generate responses in a similar style or format, improving accuracy and relevance—especially for creative or complex tasks. This approach is useful when you want the model to mimic a specific pattern or tone without extensive retraining."
   ]
  },
  {
   "cell_type": "code",
   "execution_count": 7,
   "id": "3853e506",
   "metadata": {},
   "outputs": [],
   "source": [
    "\n",
    "few_shot_prompt = (\n",
    "    \"Below you will see examples of how to improve parts of a CV:\\n\\n\"\n",
    "    \"Example 1:\\n\"\n",
    "    \"Original: \\\"I worked in sales at a company.\\\"\\n\"\n",
    "    \"Improved: \\\"Developed personalized sales strategies that increased conversions by 20% in 6 months.\\\"\\n\\n\"\n",
    "    \"Example 2:\\n\"\n",
    "    \"Original: \\\"I know how to use Word and the Internet.\\\"\\n\"\n",
    "    \"Improved: \\\"Advanced proficiency in office tools and efficient web research for technical documentation.\\\"\\n\\n\"\n",
    "    \"Now, in that style, improve the following résumé while keeping the information realistic, professional, and suitable for this particular frontend developer with backend knowledge:\\n\\n{cv}\"\n",
    ")\n"
   ]
  },
  {
   "cell_type": "code",
   "execution_count": 8,
   "id": "6100256e",
   "metadata": {},
   "outputs": [],
   "source": [
    "few_shot_prompt_result = execute_prompt(build_prompt(few_shot_prompt, resume))"
   ]
  },
  {
   "cell_type": "code",
   "execution_count": 22,
   "id": "945185d2",
   "metadata": {},
   "outputs": [
    {
     "name": "stdout",
     "output_type": "stream",
     "text": [
      "**Nombre:** Juan Pérez  \n",
      "**Correo:** juan.perez.dev@gmail.com  \n",
      "**Teléfono:** +51 987 654 321  \n",
      "**LinkedIn:** [juanperezdev](https://www.linkedin.com/in/juanperezdev)  \n",
      "**GitHub:** [juanperezdev](https://github.com/juanperezdev)  \n",
      "\n",
      "🎯 **Perfil Profesional**  \n",
      "Desarrollador Frontend con más de 4 años de experiencia en la creación de interfaces web modernas y responsivas. Especializado en React y Tailwind CSS, con conocimientos en desarrollo Backend usando Node.js y Express. Comprometido con mejorar la experiencia del usuario y optimizar el rendimiento web dentro de equipos ágiles y colaborativos.\n",
      "\n",
      "💼 **Experiencia Laboral**  \n",
      "\n",
      "**Frontend Developer – TechNova Solutions (2022 - Actualidad)**  \n",
      "- Desarrollé interfaces web responsivas utilizando React y TypeScript, mejorando la usabilidad y estabilidad de la plataforma.  \n",
      "- Implementé un sistema de diseño basado en componentes reutilizables con Tailwind CSS, lo que redujo el tiempo de desarrollo en un 30%.  \n",
      "- Colaboré con diseñadores UX/UI para crear experiencias accesibles, asegurando el cumplimiento de las pautas WCAG.  \n",
      "- Integré APIs RESTful y realicé la gestión de autenticación utilizando JWT, garantizando la seguridad y eficiencia de las transacciones de datos.\n",
      "\n",
      "**Web Developer – DigitalMinds Agency (2020 - 2022)**  \n",
      "- Diseñé y mantuve sitios web corporativos usando HTML, CSS, JavaScript y Vue.js, aumentando la satisfacción del cliente con un incremento del 25% en las métricas de interacción.  \n",
      "- Implementé formularios interactivos y animaciones ligeras que mejoraron la experiencia del usuario.  \n",
      "- Participé activamente en la migración de sitios legacy a frameworks modernos, mejorando la velocidad de carga en un 40%.\n",
      "\n",
      "**Asistente de Desarrollo – SoftNet Peru (2019 - 2020)**  \n",
      "- Proporcioné soporte en el desarrollo de funcionalidades en proyectos PHP y jQuery, contribuyendo a la estabilidad de aplicaciones existentes.  \n",
      "- Identifiqué y corregí bugs, además de optimizar estilos CSS, elevando la calidad del código mantenido.  \n",
      "- Aprendí y apliqué prácticas de control de versiones utilizando Git, promoviendo una colaboración más eficiente en el equipo de desarrollo.\n",
      "\n",
      "🎓 **Educación**  \n",
      "Bachiller en Ingeniería de Sistemas  \n",
      "Universidad Nacional de Ingeniería — 2014 - 2019  \n",
      "\n",
      "📚 **Cursos y Certificaciones**  \n",
      "- **Full Stack Web Development** – CódigoLatino Bootcamp (2023)  \n",
      "- **Backend con Node.js y Express** – Platzi (2022)  \n",
      "- **Introducción a Bases de Datos con PostgreSQL** – Udemy (2021)  \n",
      "- **Responsive Web Design** – freeCodeCamp (2020)  \n",
      "\n",
      "🛠️ **Habilidades Técnicas**  \n",
      "- **Frontend:** React, Next.js, Vue.js, JavaScript, TypeScript, Tailwind CSS, Sass  \n",
      "- **Backend:** Node.js, Express, MongoDB (básico), PostgreSQL (básico)  \n",
      "- **Herramientas:** Git, GitHub, Figma, Vite, Webpack  \n",
      "- **Idiomas:** Español (nativo), Inglés (intermedio)\n"
     ]
    }
   ],
   "source": [
    "print(few_shot_prompt_result[\"openai\"].strip())"
   ]
  },
  {
   "cell_type": "markdown",
   "id": "05a54146",
   "metadata": {},
   "source": [
    "### What is \"Step-by-Step\" in Prompting?\n",
    "\n",
    "**Step-by-step prompting** is a technique where you instruct the language model to solve a task by breaking it down into clear, ordered steps. This approach helps the model reason more logically, reduces errors, and produces more structured, reliable outputs—especially for complex or multi-part tasks.\n",
    "\n",
    "**Example:**  \n",
    "Instead of asking, “Improve this résumé,” you might say:\n",
    "1. Correct grammar and spelling.\n",
    "2. Make the profile more achievement-oriented.\n",
    "3. Add measurable results to work experience.\n",
    "4. Reorganize for clarity.\n",
    "\n",
    "**Benefits:**  \n",
    "- Increases output quality and consistency  \n",
    "- Makes the model’s reasoning more transparent  \n",
    "- Useful for editing, analysis, and multi-stage tasks"
   ]
  },
  {
   "cell_type": "code",
   "execution_count": 9,
   "id": "2a43274e",
   "metadata": {},
   "outputs": [],
   "source": [
    "\n",
    "prompt_step_by_step = (\n",
    "    \"Improve this résumé by following these steps:\\n\\n\"\n",
    "    \"1. Review the overall writing and correct any grammar or style errors.\\n\"\n",
    "    \"2. Make the professional profile more specific and achievement-oriented.\\n\"\n",
    "    \"3. Ensure that work experiences include measurable results or impact.\\n\"\n",
    "    \"4. Reorganize the information if necessary to prioritize the most relevant details.\\n\"\n",
    "    \"5. Give it a more international tone, considering recruiters from tech companies outside of Latin America.\\n\\n{cv}\"\n",
    ")\n"
   ]
  },
  {
   "cell_type": "code",
   "execution_count": 10,
   "id": "a5bd7b2e",
   "metadata": {},
   "outputs": [],
   "source": [
    "prompt_step_by_step_result = execute_prompt(build_prompt(prompt_step_by_step, resume))"
   ]
  },
  {
   "cell_type": "code",
   "execution_count": 24,
   "id": "a94f04c9",
   "metadata": {},
   "outputs": [],
   "source": [
    "prompt_step_by_step_result\n"
   ]
  },
  {
   "cell_type": "markdown",
   "id": "826037e7",
   "metadata": {},
   "source": [
    "\n",
    "# 🧠 Prompting Best Practices: Key Sections of a Good Prompt\n",
    "\n",
    "When working with LLMs for complex tasks (like improving a CV), a well-designed prompt should be **clear, structured, and contextual**. Below are the most important sections of an effective prompt:\n",
    "\n",
    "---\n",
    "\n",
    "## 🔶 1. **Context or Role**\n",
    "> Define who the model is or what kind of expert it should simulate.\n",
    "- 🧑‍🏫 Example: “Act as a senior technical recruiter at an international tech company.”\n",
    "- ✅ Helps set tone, vocabulary, and appropriate knowledge level.\n",
    "\n",
    "---\n",
    "\n",
    "## 🔷 2. **Task or Objective**\n",
    "> What the model should do, exactly.\n",
    "- 🎯 Example: “Improve this résumé to make it clearer, more professional, and competitive.”\n",
    "- ✅ The more explicit the task, the better the result.\n",
    "\n",
    "---\n",
    "\n",
    "## 🔶 3. **Expected Input**\n",
    "> Indicate what input will be provided to the model.\n",
    "- 📝 Example: “The input is a résumé written by a semi-senior candidate.”\n",
    "- ✅ Avoids ambiguity about what should be processed.\n",
    "\n",
    "---\n",
    "\n",
    "## 🔷 4. **Output Format**\n",
    "> Specify how the response should be structured: format, style, language, etc.\n",
    "- 🧾 Example: “Return a structured résumé with sections for profile, experience, education, and skills using bullet points.”\n",
    "- ✅ Very useful when output needs to be readable or reusable.\n",
    "\n",
    "---\n",
    "\n",
    "## 🔶 5. **Constraints or Criteria**\n",
    "> Rules on tone, style, language, length, etc.\n",
    "- 📌 Example: “Keep the text in neutral Spanish. Do not make up information. Avoid informal jargon.”\n",
    "- ✅ Controls output and reduces hallucinations.\n",
    "\n",
    "---\n",
    "\n",
    "## 🔷 6. **Examples (Few-shot, optional)**\n",
    "> Provide examples of good output to guide tone or structure.\n",
    "- 🟨 Useful for creative tasks or when a specific style is desired.\n",
    "\n",
    "---\n",
    "\n",
    "## 🟢 7. **Step-by-step Instructions (optional)**\n",
    "> Ask the model to reason in steps or apply changes progressively.\n",
    "- 🧩 Example: “1. Fix grammar errors. 2. Improve clarity. 3. Highlight achievements.”\n",
    "- ✅ Increases precision and control.\n",
    "\n",
    "---\n",
    "\n",
    "## 📌 Summary Table:\n",
    "\n",
    "| Section           | Purpose                                         |\n",
    "|-------------------|-------------------------------------------------|\n",
    "| 🧑 Role            | Sets identity and tone of the model             |\n",
    "| 🎯 Task            | Defines the objective                          |\n",
    "| 📝 Input           | Clarifies what data will be processed           |\n",
    "| 🧾 Output Format   | Defines how the response should look            |\n",
    "| 📌 Constraints     | Guides tone, style, prevents hallucinations     |\n",
    "| 🟨 Examples        | (Optional) Helps guide tone/format              |\n",
    "| 🧩 Step-by-step    | (Optional) Increases precision in complex tasks |\n",
    "\n",
    "---\n",
    "\n",
    "This structure can be adapted for many prompting situations like summarization, code generation, rewriting, translation, or analysis.\n",
    "\n"
   ]
  },
  {
   "cell_type": "code",
   "execution_count": null,
   "id": "1a7db8ed",
   "metadata": {},
   "outputs": [],
   "source": [
    "prompt_full = (\n",
    "    \"Act as a technical recruiter with experience in hiring for international tech startups. \"\n",
    "    \"Your task is to analyze and rewrite the following résumé to make it clearer, more professional, and more competitive for a Frontend Developer semi-senior role.\\n\\n\"\n",
    "    \n",
    "    \"📥 **Input:** A preliminary résumé, potentially with stylistic issues or lack of clarity.\\n\"\n",
    "    \"📤 **Expected Output:** An improved résumé that retains the original information but is rewritten to be more concise, well-structured, and professional. \"\n",
    "    \"Highlight measurable achievements, use appropriate technical terminology, and enhance the writing to showcase strengths.\\n\\n\"\n",
    "\n",
    "    \"🎯 **Goal of the new résumé:** Make it attractive to international tech recruiters, especially startups that value practical experience, adaptability, and clear technical skills.\\n\\n\"\n",
    "    \n",
    "    \"📋 **Format:** Maintain a standard résumé structure (Professional Profile, Experience, Education, Skills, Courses). Use bullet points where applicable. Keep the text in neutral English.\\n\\n\"\n",
    "    \n",
    "    \"✅ **Additional Instructions:**\\n\"\n",
    "    \"- Improve wording while remaining faithful to the original content.\\n\"\n",
    "    \"- Focus on achievements and results, not just generic tasks.\\n\"\n",
    "    \"- Check grammar, punctuation, and formatting.\\n\"\n",
    "    \"- Ensure a coherent tone throughout the résumé.\\n\\n\"\n",
    "    \n",
    "    \"Below is the résumé to be improved:\\n\\n{cv}\"\n",
    ")"
   ]
  },
  {
   "cell_type": "code",
   "execution_count": 12,
   "id": "662161cc",
   "metadata": {},
   "outputs": [],
   "source": [
    "prompt_full_result = execute_prompt(build_prompt(prompt_full, resume))"
   ]
  },
  {
   "cell_type": "code",
   "execution_count": 14,
   "id": "a6eda179",
   "metadata": {},
   "outputs": [
    {
     "name": "stdout",
     "output_type": "stream",
     "text": [
      "Here is a revised version of the résumé:\n",
      "\n",
      "**Juan Pérez**\n",
      "\n",
      "**Email:** juan.perez.dev@gmail.com\n",
      "**Phone:** +51 987 654 321\n",
      "**LinkedIn:** https://www.linkedin.com/in/juanperezdev\n",
      "**GitHub:** https://github.com/juanperezdev\n",
      "\n",
      "---\n",
      "\n",
      "**Professional Profile:**\n",
      "\n",
      "Frontend Developer with over 4 years of experience in building modern and responsive web interfaces. Specialized in React and Tailwind CSS, with complementary knowledge in backend development using Node.js and Express. Passionate about user experience, web performance, and agile teamwork.\n",
      "\n",
      "---\n",
      "\n",
      "**Work Experience:**\n",
      "\n",
      "*Frontend Developer – TechNova Solutions (2022 - Present)*\n",
      "- Developed responsive web interfaces using React and TypeScript.\n",
      "- Implemented a design system based on reusable components with Tailwind CSS.\n",
      "- Collaborated with UX/UI designers to create accessible and user-friendly experiences.\n",
      "- Integrated RESTful APIs and handled authentication using JWT.\n",
      "\n",
      "*Web Developer – DigitalMinds Agency (2020 - 2022)*\n",
      "- Developed and maintained corporate websites using HTML, CSS, JavaScript, and Vue.js.\n",
      "- Implemented interactive forms and lightweight animations.\n",
      "- Participated in the migration of legacy websites to modern frameworks.\n",
      "\n",
      "*Development Assistant – SoftNet Peru (2019 - 2020)*\n",
      "- Assisted in developing basic functionalities for projects using PHP and jQuery.\n",
      "- Debugged and improved CSS stylesheets.\n",
      "- Learned and applied version control using Git.\n",
      "\n",
      "---\n",
      "\n",
      "**Education:**\n",
      "\n",
      "*Bachelor of Systems Engineering, National University of Engineering (2014-2019)*\n",
      "\n",
      "---\n",
      "\n",
      "**Courses and Certifications:**\n",
      "\n",
      "- Full Stack Web Development – CódigoLatino Bootcamp (2023)\n",
      "- Backend Development with Node.js and Express – Platzi (2022)\n",
      "- Introduction to PostgreSQL Databases – Udemy (2021)\n",
      "- Responsive Web Design – freeCodeCamp (2020)\n",
      "\n",
      "---\n",
      "\n",
      "**Technical Skills:**\n",
      "\n",
      "*Frontend:* React, Next.js, Vue.js, JavaScript, TypeScript, Tailwind CSS, Sass\n",
      "*Backend:* Node.js, Express, MongoDB (basic), PostgreSQL (basic)\n",
      "*Tools:* Git, GitHub, Figma, Vite, Webpack\n",
      "*Languages:* Spanish (Native), English (Intermediate)\n",
      "\n",
      "--- \n",
      "\n",
      "I hope this revised résumé better showcases your skills and experiences, Juan! I've focused on highlighting your measurable achievements, used more appropriate technical terminology, and structured the content to be clearer and more attractive to international tech startup recruiters. Good luck with your job search!\n"
     ]
    }
   ],
   "source": [
    "print(prompt_full_result[\"hf\"].strip())"
   ]
  },
  {
   "cell_type": "markdown",
   "id": "e9636663",
   "metadata": {},
   "source": [
    "\n",
    "## ⚠️ Risks & Considerations\n",
    "\n",
    "When designing prompts and working with LLMs, always consider:\n",
    "\n",
    "- **Hallucinations:** The model may generate plausible but incorrect or fabricated information.\n",
    "- **Prompt Injection:** Malicious input can manipulate the model’s behavior.\n",
    "- **Prompt Leaking:** Sensitive prompt details may be revealed in outputs.\n",
    "- **Jailbreaking:** Attempts to bypass model restrictions or safety mechanisms."
   ]
  },
  {
   "cell_type": "markdown",
   "id": "0a1c11e2",
   "metadata": {},
   "source": []
  }
 ],
 "metadata": {
  "kernelspec": {
   "display_name": "llm-training",
   "language": "python",
   "name": "python3"
  },
  "language_info": {
   "codemirror_mode": {
    "name": "ipython",
    "version": 3
   },
   "file_extension": ".py",
   "mimetype": "text/x-python",
   "name": "python",
   "nbconvert_exporter": "python",
   "pygments_lexer": "ipython3",
   "version": "3.13.5"
  }
 },
 "nbformat": 4,
 "nbformat_minor": 5
}
